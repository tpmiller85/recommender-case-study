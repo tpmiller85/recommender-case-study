{
 "cells": [
  {
   "cell_type": "code",
   "execution_count": 84,
   "metadata": {},
   "outputs": [],
   "source": [
    "import pyspark as ps\n",
    "import pandas as pd\n",
    "import numpy as np\n",
    "from pyspark.ml.evaluation import RegressionEvaluator\n",
    "from pyspark.ml.recommendation import ALS\n",
    "spark = (ps.sql.SparkSession.builder \n",
    "        .master(\"local[4]\") \n",
    "        .appName(\"sparkSQL exercise\") \n",
    "        .getOrCreate()\n",
    "        )\n",
    "sc = spark.sparkContext\n",
    "from sklearn.feature_extraction.text import CountVectorizer\n",
    "from pyspark.sql.types import *\n",
    "from pyspark.sql.functions import col, split"
   ]
  },
  {
   "cell_type": "markdown",
   "metadata": {},
   "source": [
    "## Load Data"
   ]
  },
  {
   "cell_type": "code",
   "execution_count": 80,
   "metadata": {},
   "outputs": [
    {
     "name": "stdout",
     "output_type": "stream",
     "text": [
      "+------+-------+------+\n",
      "|userId|movieId|rating|\n",
      "+------+-------+------+\n",
      "|     1|     31|   2.5|\n",
      "|     1|   1029|   3.0|\n",
      "|     1|   1061|   3.0|\n",
      "|     1|   1129|   2.0|\n",
      "|     1|   1172|   4.0|\n",
      "+------+-------+------+\n",
      "only showing top 5 rows\n",
      "\n",
      "None\n",
      "<bound method DataFrame.describe of DataFrame[userId: int, movieId: int, rating: double]>\n"
     ]
    }
   ],
   "source": [
    "# small data set:\n",
    "ratings_df = spark.read.csv('../data/movies/ratings.csv', header=True, inferSchema=True)\n",
    "\n",
    "# full data set:\n",
    "# ratings_df = spark.read.csv('../data/ml-latest/ratings.csv', header=True, inferSchema=True)\n",
    "\n",
    "ratings_df = ratings_df.drop(\"timestamp\");\n",
    "print(ratings_df.show(5))\n",
    "print(ratings_df.describe)"
   ]
  },
  {
   "cell_type": "code",
   "execution_count": 81,
   "metadata": {},
   "outputs": [
    {
     "name": "stdout",
     "output_type": "stream",
     "text": [
      "+-------+--------------------+--------------------+\n",
      "|movieId|               title|              genres|\n",
      "+-------+--------------------+--------------------+\n",
      "|      1|    Toy Story (1995)|Adventure|Animati...|\n",
      "|      2|      Jumanji (1995)|Adventure|Childre...|\n",
      "|      3|Grumpier Old Men ...|      Comedy|Romance|\n",
      "|      4|Waiting to Exhale...|Comedy|Drama|Romance|\n",
      "|      5|Father of the Bri...|              Comedy|\n",
      "+-------+--------------------+--------------------+\n",
      "only showing top 5 rows\n",
      "\n",
      "None\n",
      "<bound method DataFrame.describe of DataFrame[movieId: int, title: string, genres: string]>\n"
     ]
    }
   ],
   "source": [
    "# small data set:\n",
    "movies_df = spark.read.csv('../data/movies/movies.csv', header=True, inferSchema=True)\n",
    "\n",
    "# full data set:\n",
    "# movies_df = spark.read.csv('../data/ml-latest/movies.csv', header=True, inferSchema=True)\n",
    "\n",
    "print(movies_df.show(5))\n",
    "print(movies_df.describe)"
   ]
  },
  {
   "cell_type": "markdown",
   "metadata": {},
   "source": [
    "### Build ALS model"
   ]
  },
  {
   "cell_type": "code",
   "execution_count": 82,
   "metadata": {},
   "outputs": [],
   "source": [
    "train_df, test_df, holdout_df = ratings_df.randomSplit([0.6, 0.2, 0.2], seed=42)"
   ]
  },
  {
   "cell_type": "code",
   "execution_count": 5,
   "metadata": {},
   "outputs": [
    {
     "name": "stdout",
     "output_type": "stream",
     "text": [
      "Rank = 4;  RMSE = 0.9337591042117053\n"
     ]
    }
   ],
   "source": [
    "seed = 42\n",
    "iterations = 10\n",
    "reg_param = 0.1\n",
    "ranks = [4]\n",
    "rmse_list = []\n",
    "\n",
    "for rank in ranks:\n",
    "    als = ALS(\n",
    "        itemCol='movieId',\n",
    "        userCol='userId',\n",
    "        ratingCol='rating',\n",
    "        nonnegative=True,\n",
    "        regParam=reg_param,\n",
    "        rank=rank,\n",
    "        seed=seed,\n",
    "        maxIter=iterations,\n",
    "        coldStartStrategy=\"drop\"\n",
    "        )\n",
    "    \n",
    "    model = als.fit(train_df)\n",
    "    predictions = model.transform(test_df)\n",
    "    evaluator = RegressionEvaluator(metricName=\"rmse\", labelCol=\"rating\",\n",
    "                                    predictionCol=\"prediction\")\n",
    "    rmse = evaluator.evaluate(predictions)\n",
    "    rmse_list.append(rmse)\n",
    "    print(f\"Rank = {rank};  RMSE = {rmse}\")"
   ]
  },
  {
   "cell_type": "code",
   "execution_count": 6,
   "metadata": {},
   "outputs": [],
   "source": [
    "# Generate top 10 movie recommendations for each user\n",
    "userRecs = model.recommendForAllUsers(10)\n",
    "# Generate top 10 user recommendations for each movie\n",
    "movieRecs = model.recommendForAllItems(10)\n",
    "\n",
    "# # Generate top 10 movie recommendations for a specified set of users\n",
    "# users = ratings.select(als.getUserCol()).distinct().limit(3)\n",
    "# userSubsetRecs = model.recommendForUserSubset(users, 10)\n",
    "# # Generate top 10 user recommendations for a specified set of movies\n",
    "# movies = ratings.select(als.getItemCol()).distinct().limit(3)\n",
    "# movieSubSetRecs = model.recommendForItemSubset(movies, 10)\n"
   ]
  },
  {
   "cell_type": "code",
   "execution_count": 7,
   "metadata": {},
   "outputs": [
    {
     "name": "stdout",
     "output_type": "stream",
     "text": [
      "+-------+--------------------+\n",
      "|movieId|     recommendations|\n",
      "+-------+--------------------+\n",
      "|   1580|[[113, 4.985595],...|\n",
      "|   5300|[[46, 6.687193], ...|\n",
      "|   6620|[[477, 5.1323185]...|\n",
      "|  54190|[[113, 6.956951],...|\n",
      "|    471|[[156, 5.4956512]...|\n",
      "+-------+--------------------+\n",
      "only showing top 5 rows\n",
      "\n"
     ]
    }
   ],
   "source": [
    "movieRecs.show(5)"
   ]
  },
  {
   "cell_type": "code",
   "execution_count": 8,
   "metadata": {},
   "outputs": [
    {
     "name": "stdout",
     "output_type": "stream",
     "text": [
      "+------+-------+------+\n",
      "|userId|movieId|rating|\n",
      "+------+-------+------+\n",
      "|     1|   1172|   4.0|\n",
      "|     1|   1263|   2.0|\n",
      "|     1|   1287|   2.0|\n",
      "|     1|   1293|   2.0|\n",
      "|     1|   1339|   3.5|\n",
      "+------+-------+------+\n",
      "only showing top 5 rows\n",
      "\n"
     ]
    }
   ],
   "source": [
    "train_df.show(5)"
   ]
  },
  {
   "cell_type": "code",
   "execution_count": 9,
   "metadata": {},
   "outputs": [
    {
     "name": "stdout",
     "output_type": "stream",
     "text": [
      "Iterations = 10;  RMSE = 0.9276785383792665\n"
     ]
    }
   ],
   "source": [
    "seed = 42\n",
    "# iterations = [5, 10, 15]\n",
    "iterations = [10]\n",
    "reg_param = 0.1\n",
    "rank = 2\n",
    "rmse_list = []\n",
    "\n",
    "for iteration in iterations:\n",
    "    als = ALS(\n",
    "        itemCol='movieId',\n",
    "        userCol='userId',\n",
    "        ratingCol='rating',\n",
    "        nonnegative=True,\n",
    "        regParam=reg_param,\n",
    "        rank=rank,\n",
    "        seed=seed,\n",
    "        maxIter=iteration,\n",
    "        coldStartStrategy=\"drop\"\n",
    "        )\n",
    "    \n",
    "    model = als.fit(train_df)\n",
    "    predictions = model.transform(test_df)\n",
    "    evaluator = RegressionEvaluator(metricName=\"rmse\", labelCol=\"rating\",\n",
    "                                    predictionCol=\"prediction\")\n",
    "    rmse = evaluator.evaluate(predictions)\n",
    "    rmse_list.append(rmse)\n",
    "    print(f\"Iterations = {iteration};  RMSE = {rmse}\")"
   ]
  },
  {
   "cell_type": "markdown",
   "metadata": {},
   "source": [
    "## Score Model On Holdout"
   ]
  },
  {
   "cell_type": "code",
   "execution_count": 88,
   "metadata": {},
   "outputs": [],
   "source": [
    "import timeit"
   ]
  },
  {
   "cell_type": "code",
   "execution_count": 92,
   "metadata": {},
   "outputs": [
    {
     "name": "stdout",
     "output_type": "stream",
     "text": [
      "Final Holdout Test: Rank = 2; Iterations = 10;\n",
      "RMSE = 0.92\n",
      "Time to complete ALS: 7.27 seconds\n"
     ]
    }
   ],
   "source": [
    "import timeit\n",
    "\n",
    "seed = 42\n",
    "iterations = 6\n",
    "reg_param = 0.1\n",
    "rank = 2\n",
    "\n",
    "als = ALS(\n",
    "    itemCol='movieId',\n",
    "    userCol='userId',\n",
    "    ratingCol='rating',\n",
    "    nonnegative=True,\n",
    "    regParam=reg_param,\n",
    "    rank=rank,\n",
    "    seed=seed,\n",
    "    maxIter=iteration,\n",
    "    coldStartStrategy=\"drop\"\n",
    "    )\n",
    "\n",
    "model = als.fit(train_df.union(test_df))\n",
    "\n",
    "# start timer\n",
    "start = timeit.default_timer()\n",
    "\n",
    "predictions = model.transform(holdout_df)\n",
    "evaluator = RegressionEvaluator(metricName=\"rmse\", labelCol=\"rating\",\n",
    "                                predictionCol=\"prediction\")\n",
    "rmse = evaluator.evaluate(predictions)\n",
    "# stop timer\n",
    "stop = timeit.default_timer()\n",
    "\n",
    "rmse_list.append(rmse)\n",
    "print(f\"Final Holdout Test: Rank = {rank}; Iterations = {iteration};\\nRMSE = {rmse:.2f}\")\n",
    "print(f\"Time to complete ALS: {stop-start:.2f} seconds\")"
   ]
  },
  {
   "cell_type": "markdown",
   "metadata": {},
   "source": [
    "### Content-Based Recommender (Genres)"
   ]
  },
  {
   "cell_type": "code",
   "execution_count": 66,
   "metadata": {},
   "outputs": [],
   "source": [
    "# print(movies_df.show(5))"
   ]
  },
  {
   "cell_type": "code",
   "execution_count": 67,
   "metadata": {},
   "outputs": [],
   "source": [
    "movies_df = movies_df.drop(\"title\");"
   ]
  },
  {
   "cell_type": "code",
   "execution_count": 68,
   "metadata": {},
   "outputs": [
    {
     "name": "stdout",
     "output_type": "stream",
     "text": [
      "+-------+--------------------+\n",
      "|movieId|              genres|\n",
      "+-------+--------------------+\n",
      "|      1|Adventure|Animati...|\n",
      "|      2|Adventure|Childre...|\n",
      "|      3|      Comedy|Romance|\n",
      "|      4|Comedy|Drama|Romance|\n",
      "|      5|              Comedy|\n",
      "+-------+--------------------+\n",
      "only showing top 5 rows\n",
      "\n",
      "None\n"
     ]
    }
   ],
   "source": [
    "print(movies_df.show(5))"
   ]
  },
  {
   "cell_type": "code",
   "execution_count": 69,
   "metadata": {},
   "outputs": [
    {
     "data": {
      "text/plain": [
       "['movieId', 'genres']"
      ]
     },
     "execution_count": 69,
     "metadata": {},
     "output_type": "execute_result"
    }
   ],
   "source": [
    "movies_df.columns"
   ]
  },
  {
   "cell_type": "code",
   "execution_count": 70,
   "metadata": {},
   "outputs": [],
   "source": [
    "# temp_df = movies_df.rdd.map(lambda x: (x[\"movieId\"], '|'.join(x[\"genres\"])))\\\n",
    "#                             .toDF([\"movieId\", \"genres\"])"
   ]
  },
  {
   "cell_type": "code",
   "execution_count": 71,
   "metadata": {},
   "outputs": [],
   "source": [
    "temp_df = movies_df.rdd.map(lambda x: (x[\"movieId\"], x[\"genres\"].replace('|', ' ')))\\\n",
    "                            .toDF([\"movieId\", \"genres\"])"
   ]
  },
  {
   "cell_type": "code",
   "execution_count": 72,
   "metadata": {},
   "outputs": [],
   "source": [
    "temp_df = temp_df.withColumn(\"genres\", split(col(\"genres\"), \" \"))"
   ]
  },
  {
   "cell_type": "code",
   "execution_count": 73,
   "metadata": {},
   "outputs": [
    {
     "name": "stdout",
     "output_type": "stream",
     "text": [
      "+-------+--------------------+\n",
      "|movieId|              genres|\n",
      "+-------+--------------------+\n",
      "|      1|[Adventure, Anima...|\n",
      "|      2|[Adventure, Child...|\n",
      "|      3|   [Comedy, Romance]|\n",
      "|      4|[Comedy, Drama, R...|\n",
      "|      5|            [Comedy]|\n",
      "+-------+--------------------+\n",
      "only showing top 5 rows\n",
      "\n",
      "None\n"
     ]
    }
   ],
   "source": [
    "print(temp_df.show(5))"
   ]
  },
  {
   "cell_type": "code",
   "execution_count": 74,
   "metadata": {},
   "outputs": [],
   "source": [
    "genre_df = temp_df.drop(\"movieId\");"
   ]
  },
  {
   "cell_type": "code",
   "execution_count": 76,
   "metadata": {},
   "outputs": [
    {
     "name": "stdout",
     "output_type": "stream",
     "text": [
      "+-------+-------------------------------------------------+----------------------------------------+\n",
      "|movieId|genres                                           |features                                |\n",
      "+-------+-------------------------------------------------+----------------------------------------+\n",
      "|1      |[Adventure, Animation, Children, Comedy, Fantasy]|(22,[1,5,9,10,13],[1.0,1.0,1.0,1.0,1.0])|\n",
      "|2      |[Adventure, Children, Fantasy]                   |(22,[5,9,10],[1.0,1.0,1.0])             |\n",
      "|3      |[Comedy, Romance]                                |(22,[1,3],[1.0,1.0])                    |\n",
      "|4      |[Comedy, Drama, Romance]                         |(22,[0,1,3],[1.0,1.0,1.0])              |\n",
      "|5      |[Comedy]                                         |(22,[1],[1.0])                          |\n",
      "|6      |[Action, Crime, Thriller]                        |(22,[2,4,6],[1.0,1.0,1.0])              |\n",
      "|7      |[Comedy, Romance]                                |(22,[1,3],[1.0,1.0])                    |\n",
      "|8      |[Adventure, Children]                            |(22,[5,10],[1.0,1.0])                   |\n",
      "|9      |[Action]                                         |(22,[4],[1.0])                          |\n",
      "|10     |[Action, Adventure, Thriller]                    |(22,[2,4,5],[1.0,1.0,1.0])              |\n",
      "|11     |[Comedy, Drama, Romance]                         |(22,[0,1,3],[1.0,1.0,1.0])              |\n",
      "|12     |[Comedy, Horror]                                 |(22,[1,7],[1.0,1.0])                    |\n",
      "|13     |[Adventure, Animation, Children]                 |(22,[5,10,13],[1.0,1.0,1.0])            |\n",
      "|14     |[Drama]                                          |(22,[0],[1.0])                          |\n",
      "|15     |[Action, Adventure, Romance]                     |(22,[3,4,5],[1.0,1.0,1.0])              |\n",
      "|16     |[Crime, Drama]                                   |(22,[0,6],[1.0,1.0])                    |\n",
      "|17     |[Drama, Romance]                                 |(22,[0,3],[1.0,1.0])                    |\n",
      "|18     |[Comedy]                                         |(22,[1],[1.0])                          |\n",
      "|19     |[Comedy]                                         |(22,[1],[1.0])                          |\n",
      "|20     |[Action, Comedy, Crime, Drama, Thriller]         |(22,[0,1,2,4,6],[1.0,1.0,1.0,1.0,1.0])  |\n",
      "+-------+-------------------------------------------------+----------------------------------------+\n",
      "only showing top 20 rows\n",
      "\n"
     ]
    }
   ],
   "source": [
    "from pyspark.ml.feature import CountVectorizer\n",
    "\n",
    "# fit a CountVectorizerModel from the corpus.\n",
    "cv = CountVectorizer(inputCol=\"genres\", outputCol=\"features\")\n",
    "\n",
    "model = cv.fit(temp_df)\n",
    "\n",
    "result = model.transform(temp_df)\n",
    "result.show(truncate=False)\n"
   ]
  },
  {
   "cell_type": "code",
   "execution_count": 77,
   "metadata": {},
   "outputs": [],
   "source": [
    "from sklearn.metrics.pairwise import cosine_similarity"
   ]
  },
  {
   "cell_type": "code",
   "execution_count": 95,
   "metadata": {},
   "outputs": [
    {
     "ename": "ValueError",
     "evalue": "setting an array element with a sequence.",
     "output_type": "error",
     "traceback": [
      "\u001b[0;31m---------------------------------------------------------------------------\u001b[0m",
      "\u001b[0;31mValueError\u001b[0m                                Traceback (most recent call last)",
      "\u001b[0;32m<ipython-input-95-a0d60b7d6503>\u001b[0m in \u001b[0;36m<module>\u001b[0;34m\u001b[0m\n\u001b[0;32m----> 1\u001b[0;31m \u001b[0mcos_mat\u001b[0m \u001b[0;34m=\u001b[0m \u001b[0mcosine_similarity\u001b[0m\u001b[0;34m(\u001b[0m\u001b[0mresult\u001b[0m\u001b[0;34m[\u001b[0m\u001b[0;34m'features'\u001b[0m\u001b[0;34m]\u001b[0m\u001b[0;34m,\u001b[0m \u001b[0mresult\u001b[0m\u001b[0;34m[\u001b[0m\u001b[0;34m'features'\u001b[0m\u001b[0;34m]\u001b[0m\u001b[0;34m)\u001b[0m\u001b[0;34m\u001b[0m\u001b[0;34m\u001b[0m\u001b[0m\n\u001b[0m",
      "\u001b[0;32m/opt/conda/lib/python3.7/site-packages/sklearn/metrics/pairwise.py\u001b[0m in \u001b[0;36mcosine_similarity\u001b[0;34m(X, Y, dense_output)\u001b[0m\n\u001b[1;32m   1025\u001b[0m     \u001b[0;31m# to avoid recursive import\u001b[0m\u001b[0;34m\u001b[0m\u001b[0;34m\u001b[0m\u001b[0;34m\u001b[0m\u001b[0m\n\u001b[1;32m   1026\u001b[0m \u001b[0;34m\u001b[0m\u001b[0m\n\u001b[0;32m-> 1027\u001b[0;31m     \u001b[0mX\u001b[0m\u001b[0;34m,\u001b[0m \u001b[0mY\u001b[0m \u001b[0;34m=\u001b[0m \u001b[0mcheck_pairwise_arrays\u001b[0m\u001b[0;34m(\u001b[0m\u001b[0mX\u001b[0m\u001b[0;34m,\u001b[0m \u001b[0mY\u001b[0m\u001b[0;34m)\u001b[0m\u001b[0;34m\u001b[0m\u001b[0;34m\u001b[0m\u001b[0m\n\u001b[0m\u001b[1;32m   1028\u001b[0m \u001b[0;34m\u001b[0m\u001b[0m\n\u001b[1;32m   1029\u001b[0m     \u001b[0mX_normalized\u001b[0m \u001b[0;34m=\u001b[0m \u001b[0mnormalize\u001b[0m\u001b[0;34m(\u001b[0m\u001b[0mX\u001b[0m\u001b[0;34m,\u001b[0m \u001b[0mcopy\u001b[0m\u001b[0;34m=\u001b[0m\u001b[0;32mTrue\u001b[0m\u001b[0;34m)\u001b[0m\u001b[0;34m\u001b[0m\u001b[0;34m\u001b[0m\u001b[0m\n",
      "\u001b[0;32m/opt/conda/lib/python3.7/site-packages/sklearn/metrics/pairwise.py\u001b[0m in \u001b[0;36mcheck_pairwise_arrays\u001b[0;34m(X, Y, precomputed, dtype)\u001b[0m\n\u001b[1;32m    110\u001b[0m     \u001b[0;32melse\u001b[0m\u001b[0;34m:\u001b[0m\u001b[0;34m\u001b[0m\u001b[0;34m\u001b[0m\u001b[0m\n\u001b[1;32m    111\u001b[0m         X = check_array(X, accept_sparse='csr', dtype=dtype,\n\u001b[0;32m--> 112\u001b[0;31m                         estimator=estimator)\n\u001b[0m\u001b[1;32m    113\u001b[0m         Y = check_array(Y, accept_sparse='csr', dtype=dtype,\n\u001b[1;32m    114\u001b[0m                         estimator=estimator)\n",
      "\u001b[0;32m/opt/conda/lib/python3.7/site-packages/sklearn/utils/validation.py\u001b[0m in \u001b[0;36mcheck_array\u001b[0;34m(array, accept_sparse, accept_large_sparse, dtype, order, copy, force_all_finite, ensure_2d, allow_nd, ensure_min_samples, ensure_min_features, warn_on_dtype, estimator)\u001b[0m\n\u001b[1;32m    494\u001b[0m             \u001b[0;32mtry\u001b[0m\u001b[0;34m:\u001b[0m\u001b[0;34m\u001b[0m\u001b[0;34m\u001b[0m\u001b[0m\n\u001b[1;32m    495\u001b[0m                 \u001b[0mwarnings\u001b[0m\u001b[0;34m.\u001b[0m\u001b[0msimplefilter\u001b[0m\u001b[0;34m(\u001b[0m\u001b[0;34m'error'\u001b[0m\u001b[0;34m,\u001b[0m \u001b[0mComplexWarning\u001b[0m\u001b[0;34m)\u001b[0m\u001b[0;34m\u001b[0m\u001b[0;34m\u001b[0m\u001b[0m\n\u001b[0;32m--> 496\u001b[0;31m                 \u001b[0marray\u001b[0m \u001b[0;34m=\u001b[0m \u001b[0mnp\u001b[0m\u001b[0;34m.\u001b[0m\u001b[0masarray\u001b[0m\u001b[0;34m(\u001b[0m\u001b[0marray\u001b[0m\u001b[0;34m,\u001b[0m \u001b[0mdtype\u001b[0m\u001b[0;34m=\u001b[0m\u001b[0mdtype\u001b[0m\u001b[0;34m,\u001b[0m \u001b[0morder\u001b[0m\u001b[0;34m=\u001b[0m\u001b[0morder\u001b[0m\u001b[0;34m)\u001b[0m\u001b[0;34m\u001b[0m\u001b[0;34m\u001b[0m\u001b[0m\n\u001b[0m\u001b[1;32m    497\u001b[0m             \u001b[0;32mexcept\u001b[0m \u001b[0mComplexWarning\u001b[0m\u001b[0;34m:\u001b[0m\u001b[0;34m\u001b[0m\u001b[0;34m\u001b[0m\u001b[0m\n\u001b[1;32m    498\u001b[0m                 raise ValueError(\"Complex data not supported\\n\"\n",
      "\u001b[0;32m/opt/conda/lib/python3.7/site-packages/numpy/core/_asarray.py\u001b[0m in \u001b[0;36masarray\u001b[0;34m(a, dtype, order)\u001b[0m\n\u001b[1;32m     83\u001b[0m \u001b[0;34m\u001b[0m\u001b[0m\n\u001b[1;32m     84\u001b[0m     \"\"\"\n\u001b[0;32m---> 85\u001b[0;31m     \u001b[0;32mreturn\u001b[0m \u001b[0marray\u001b[0m\u001b[0;34m(\u001b[0m\u001b[0ma\u001b[0m\u001b[0;34m,\u001b[0m \u001b[0mdtype\u001b[0m\u001b[0;34m,\u001b[0m \u001b[0mcopy\u001b[0m\u001b[0;34m=\u001b[0m\u001b[0;32mFalse\u001b[0m\u001b[0;34m,\u001b[0m \u001b[0morder\u001b[0m\u001b[0;34m=\u001b[0m\u001b[0morder\u001b[0m\u001b[0;34m)\u001b[0m\u001b[0;34m\u001b[0m\u001b[0;34m\u001b[0m\u001b[0m\n\u001b[0m\u001b[1;32m     86\u001b[0m \u001b[0;34m\u001b[0m\u001b[0m\n\u001b[1;32m     87\u001b[0m \u001b[0;34m\u001b[0m\u001b[0m\n",
      "\u001b[0;31mValueError\u001b[0m: setting an array element with a sequence."
     ]
    }
   ],
   "source": [
    "cos_mat = cosine_similarity(result['features'], result['features'])"
   ]
  },
  {
   "cell_type": "code",
   "execution_count": null,
   "metadata": {},
   "outputs": [],
   "source": []
  }
 ],
 "metadata": {
  "kernelspec": {
   "display_name": "Python 3",
   "language": "python",
   "name": "python3"
  },
  "language_info": {
   "codemirror_mode": {
    "name": "ipython",
    "version": 3
   },
   "file_extension": ".py",
   "mimetype": "text/x-python",
   "name": "python",
   "nbconvert_exporter": "python",
   "pygments_lexer": "ipython3",
   "version": "3.7.3"
  }
 },
 "nbformat": 4,
 "nbformat_minor": 4
}
