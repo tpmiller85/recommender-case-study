{
 "cells": [
  {
   "cell_type": "code",
   "execution_count": 1,
   "metadata": {},
   "outputs": [],
   "source": [
    "import pyspark as ps\n",
    "from pyspark.sql import SparkSession\n",
    "from pyspark.ml.recommendation import ALS\n",
    "import pandas as pd\n",
    "import numpy as np\n",
    "import math\n",
    "import os\n",
    "import sys\n",
    "from pyspark.ml.evaluation import RegressionEvaluator\n",
    "from pyspark.sql import Row\n",
    "\n",
    "ROOT_DIR=os.path.split(os.path.realpath(''))[0]\n",
    "SRC_DIR = os.path.join(ROOT_DIR,'src')\n",
    "sys.path.append(SRC_DIR)"
   ]
  },
  {
   "cell_type": "code",
   "execution_count": 2,
   "metadata": {},
   "outputs": [],
   "source": [
    "spark = SparkSession.builder.master(\"local[4]\").appName(\"sparkSQL_recommender\").getOrCreate()\n",
    "ratings_df = spark.read.csv('../data/movies/ratings.csv', header=True, inferSchema=True)\n",
    "movies_df = spark.read.csv('../data/movies/movies.csv', header=True, inferSchema=True)\n",
    "\n",
    "# print(df.show(5))\n",
    "# print(df.describe)"
   ]
  },
  {
   "cell_type": "code",
   "execution_count": 3,
   "metadata": {},
   "outputs": [],
   "source": [
    "train_df, test_df, holdout_df = ratings_df.randomSplit([0.6, 0.2, 0.2], seed=42)"
   ]
  },
  {
   "cell_type": "code",
   "execution_count": 4,
   "metadata": {},
   "outputs": [],
   "source": [
    "# iterations = 10\n",
    "# ranks = [1,2,3,4,5,6,7,8,9,10,11,12,13,14,15]\n",
    "# step_size=[0.001, 0.005, 0.01, 0.05, 0.1, 0.5, 1]\n",
    "# seed = 42\n",
    "# rmse_list = []\n",
    "# for rank in ranks:\n",
    "#     als = ALS(rank=rank, maxIter=10, regParam=0.1, alpha=0.05, nonnegative=True,\n",
    "#           numUserBlocks=10, numItemBlocks=10,\n",
    "#           userCol=\"userId\", itemCol=\"movieId\", ratingCol=\"rating\",\n",
    "#           coldStartStrategy=\"drop\")\n",
    "#     model = als.fit(train_df)\n",
    "#     predictions = model.transform(test_df)\n",
    "#     evaluator = RegressionEvaluator(metricName=\"rmse\", labelCol=\"rating\",\n",
    "#                                 predictionCol=\"prediction\")\n",
    "#     rmse = evaluator.evaluate(predictions)\n",
    "#     rmse_list.append(rmse)\n",
    "#     print(\"Root-mean-square error = \" + str(rmse))"
   ]
  },
  {
   "cell_type": "code",
   "execution_count": null,
   "metadata": {},
   "outputs": [],
   "source": []
  },
  {
   "cell_type": "code",
   "execution_count": 5,
   "metadata": {},
   "outputs": [],
   "source": [
    "# iters = np.arange(1,21)\n",
    "# ranks = np.arange(1,4)\n",
    "# steps = step_size=[0.001, 0.005, 0.01, 0.05, 0.1, 0.5, 1]\n",
    "\n",
    "# for rank in ranks:\n",
    "#     for step in steps:\n",
    "#         for iterations in iters:\n",
    "#             als = ALS(rank=rank, maxIter=iterations, regParam=0.1, alpha=0.05, nonnegative=True,\n",
    "#                   numUserBlocks=10, numItemBlocks=10,\n",
    "#                   userCol=\"userId\", itemCol=\"movieId\", ratingCol=\"rating\",\n",
    "#                   coldStartStrategy=\"drop\", stepSize=step)\n",
    "#             model = als.fit(train_df)\n",
    "#             predictions = model.transform(validation_df)\n",
    "#             evaluator = RegressionEvaluator(metricName=\"rmse\", labelCol=\"rating\",\n",
    "#                                         predictionCol=\"prediction\")\n",
    "#             rmse = evaluator.evaluate(predictions)\n",
    "#             rmse_list.append(rmse)\n",
    "#             print(f\"Rank = {rank}, Iter = {iterations}, Learning Rate = {step}, RMSE = {rmse:.4f}\")"
   ]
  },
  {
   "cell_type": "code",
   "execution_count": 6,
   "metadata": {},
   "outputs": [],
   "source": [
    "train_df, holdout_df = ratings_df.randomSplit([0.8, 0.2], seed=42)"
   ]
  },
  {
   "cell_type": "code",
   "execution_count": 9,
   "metadata": {},
   "outputs": [
    {
     "name": "stdout",
     "output_type": "stream",
     "text": [
      "Final Holdout Test: Rank = 2; Iterations = 6;\n",
      "RMSE = 0.92\n",
      "Time to complete ALS: 4.52 seconds\n"
     ]
    }
   ],
   "source": [
    "import timeit\n",
    "rmse_list = []\n",
    "seed = 42\n",
    "iterations = 6\n",
    "reg_param = 0.1\n",
    "rank = 2\n",
    "\n",
    "als = ALS(\n",
    "    itemCol='movieId',\n",
    "    userCol='userId',\n",
    "    ratingCol='rating',\n",
    "    nonnegative=True,\n",
    "    regParam=reg_param,\n",
    "    rank=rank,\n",
    "    seed=seed,\n",
    "    maxIter=iterations,\n",
    "    coldStartStrategy=\"drop\",\n",
    "    numUserBlocks=10,\n",
    "    numItemBlocks=10\n",
    "    )\n",
    "# start timer\n",
    "start = timeit.default_timer()\n",
    "train_test_df = train_df.union(test_df)\n",
    "model = als.fit(train_test_df)\n",
    "\n",
    "\n",
    "\n",
    "predictions = model.transform(holdout_df)\n",
    "evaluator = RegressionEvaluator(metricName=\"rmse\", labelCol=\"rating\",\n",
    "                                predictionCol=\"prediction\")\n",
    "rmse = evaluator.evaluate(predictions)\n",
    "# stop timer3131\n",
    "stop = timeit.default_timer()\n",
    "\n",
    "rmse_list.append(rmse)\n",
    "print(f\"Final Holdout Test: Rank = {rank}; Iterations = {iterations};\\nRMSE = {rmse:.2f}\")\n",
    "print(f\"Time to complete ALS: {stop-start:.2f} seconds\")"
   ]
  },
  {
   "cell_type": "code",
   "execution_count": 10,
   "metadata": {},
   "outputs": [
    {
     "name": "stdout",
     "output_type": "stream",
     "text": [
      "+------+-------+------+----------+\n",
      "|userId|movieId|rating| timestamp|\n",
      "+------+-------+------+----------+\n",
      "|     1|   1172|   4.0|1260759205|\n",
      "|     1|   1263|   2.0|1260759151|\n",
      "|     1|   1287|   2.0|1260759187|\n",
      "|     1|   1293|   2.0|1260759148|\n",
      "|     1|   1339|   3.5|1260759125|\n",
      "|     1|   1371|   2.5|1260759135|\n",
      "|     1|   1405|   1.0|1260759203|\n",
      "|     1|   1953|   4.0|1260759191|\n",
      "|     1|   2150|   3.0|1260759194|\n",
      "|     1|   2193|   2.0|1260759198|\n",
      "|     1|   2968|   1.0|1260759200|\n",
      "|     1|   3671|   3.0|1260759117|\n",
      "|     2|     10|   4.0| 835355493|\n",
      "|     2|     17|   5.0| 835355681|\n",
      "|     2|     39|   5.0| 835355604|\n",
      "|     2|     47|   4.0| 835355552|\n",
      "|     2|     50|   4.0| 835355586|\n",
      "|     2|     52|   3.0| 835356031|\n",
      "|     2|    110|   4.0| 835355532|\n",
      "|     2|    161|   3.0| 835355493|\n",
      "+------+-------+------+----------+\n",
      "only showing top 20 rows\n",
      "\n"
     ]
    }
   ],
   "source": [
    "train_test_df.show()"
   ]
  },
  {
   "cell_type": "code",
   "execution_count": null,
   "metadata": {},
   "outputs": [],
   "source": []
  }
 ],
 "metadata": {
  "kernelspec": {
   "display_name": "Python 3",
   "language": "python",
   "name": "python3"
  },
  "language_info": {
   "codemirror_mode": {
    "name": "ipython",
    "version": 3
   },
   "file_extension": ".py",
   "mimetype": "text/x-python",
   "name": "python",
   "nbconvert_exporter": "python",
   "pygments_lexer": "ipython3",
   "version": "3.7.3"
  }
 },
 "nbformat": 4,
 "nbformat_minor": 4
}
